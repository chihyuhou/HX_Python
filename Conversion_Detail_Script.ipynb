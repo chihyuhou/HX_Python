{
 "cells": [
  {
   "cell_type": "code",
   "execution_count": 1,
   "metadata": {
    "collapsed": true
   },
   "outputs": [],
   "source": [
    "# Importing all the modules needed\n",
    "\n",
    "import pandas as pd\n",
    "from pandas import Series\n",
    "import datetime\n",
    "import calendar\n",
    "import os"
   ]
  },
  {
   "cell_type": "code",
   "execution_count": 2,
   "metadata": {
    "collapsed": false
   },
   "outputs": [
    {
     "data": {
      "text/plain": [
       "50"
      ]
     },
     "execution_count": 2,
     "metadata": {},
     "output_type": "execute_result"
    }
   ],
   "source": [
    "# Checking the number of rows/columns showed up and set that as 50 \n",
    "\n",
    "pd.set_option(\"display.max_columns\", 50)\n",
    "pd.get_option(\"display.max_columns\")"
   ]
  },
  {
   "cell_type": "code",
   "execution_count": 3,
   "metadata": {
    "collapsed": false
   },
   "outputs": [
    {
     "name": "stdout",
     "output_type": "stream",
     "text": [
      "Please type in path of the file > C:\\Users\\dhou\\Downloads\\Advertiser - Gilead - Harvoni - kgoqrvw - Conversions - 7 Days - USD - 20170306-20170312.tsv\n",
      "input_file shape :  (4505, 99)\n",
      "If there are other files, please type \"y\", otherwise, press \"n\" > y\n",
      "Please type in path of the file > C:\\Users\\dhou\\Downloads\\Advertiser - Gilead - Harvoni - kgoqrvw - Conversions - 7 Days - USD - 20170227-20170305.tsv\n",
      "input_file shape :  (3567, 99)\n",
      "If there are other files, please type \"y\", otherwise, press \"n\" > y\n",
      "Please type in path of the file > C:\\Users\\dhou\\Downloads\\Advertiser - Gilead - Harvoni - kgoqrvw - Conversions - 7 Days - USD - 20170220-20170226.tsv\n",
      "input_file shape :  (2222, 99)\n",
      "If there are other files, please type \"y\", otherwise, press \"n\" > y\n",
      "Please type in path of the file > C:\\Users\\dhou\\Downloads\\Advertiser - Gilead - Harvoni - kgoqrvw - Conversions - 7 Days - USD - 20170213-20170219.tsv\n",
      "input_file shape :  (1705, 99)\n",
      "If there are other files, please type \"y\", otherwise, press \"n\" > n\n",
      "The raw file comprises 4 files The shape of the raw file :  (11999, 99)\n"
     ]
    }
   ],
   "source": [
    "# Importing the data\n",
    "\n",
    "file_size = list(range(10))\n",
    "\n",
    "for i in file_size:\n",
    "    \n",
    "    if i == 0:\n",
    "        file_name = raw_input(\"Please type in path of the file > \")\n",
    "        input_file = pd.read_csv(file_name, delimiter= \"\\t\")\n",
    "        print \"input_file shape : \", input_file.shape\n",
    "        raw = input_file\n",
    "        \n",
    "        answer = raw_input(\"If there are other files, please type \\\"y\\\", otherwise, press \\\"n\\\" > \")\n",
    "        if answer == \"y\":\n",
    "            continue\n",
    "        else:\n",
    "            print \"The raw file comprises\", i+1, \"file.\",\"The shape of the raw file :\", raw.shape\n",
    "            break\n",
    "        \n",
    "    else:\n",
    "        file_name = raw_input(\"Please type in path of the file > \")\n",
    "        input_file = pd.read_csv(file_name, delimiter= \"\\t\")\n",
    "        print \"input_file shape : \", input_file.shape\n",
    "        raw = raw.append(input_file, ignore_index= True)\n",
    "        \n",
    "        answer = raw_input(\"If there are other files, please type \\\"y\\\", otherwise, press \\\"n\\\" > \")\n",
    "        if answer == \"y\":\n",
    "            continue\n",
    "        else:\n",
    "            print \"The raw file comprises\", i+1,\"files\", \"The shape of the raw file : \", raw.shape\n",
    "            break\n",
    "        \n",
    "#C:\\Users\\dhou\\Desktop\\data\\data1.csv\n",
    "#C:\\Users\\dhou\\Desktop\\data\\data2.csv\n",
    "#C:\\Users\\dhou\\Desktop\\data\\data3.csv\n",
    "\n",
    "#C:\\Users\\dhou\\Desktop\\data\\Advertiser - SoCal Honda - 7vtaxns - Conversions - 1 Day - USD - 20170305.tsv\n",
    "#C:\\Users\\dhou\\Desktop\\data\\Advertiser - SoCal Honda - 7vtaxns - Conversions - 1 Day - USD - 20170304.tsv"
   ]
  },
  {
   "cell_type": "code",
   "execution_count": 4,
   "metadata": {
    "collapsed": false
   },
   "outputs": [
    {
     "name": "stdout",
     "output_type": "stream",
     "text": [
      "(11999, 20)\n"
     ]
    }
   ],
   "source": [
    "columns = [\"Conversion Time\",\"TDID\",\"Conversion Id\",\"# Impressions\",\"# Display Clicks\",\n",
    "                     \"Tracking Tag Name\",\"First Impression Time\",\"First Impression Campaign Name\",\n",
    "                     \"First Impression Ad Group Name\",\"Last Impression Time\",\"Last Impression Campaign Name\",\n",
    "                     \"Last Impression Ad Group Name\",\"Last Impression Site\",\"Last Impression Country\",\"Last Impression Metro\",\n",
    "                     \"Attribution Model\",\"XDIDs\",\"First Impression Device Type\",\"Last Impression Device Type\",\n",
    "                     \"Conversion Device Type\"]\n",
    "\n",
    "raw = raw[columns]\n",
    "\n",
    "print raw.shape"
   ]
  },
  {
   "cell_type": "code",
   "execution_count": 5,
   "metadata": {
    "collapsed": false
   },
   "outputs": [
    {
     "name": "stdout",
     "output_type": "stream",
     "text": [
      "11999\n",
      "9788\n",
      "9788\n"
     ]
    },
    {
     "data": {
      "text/html": [
       "<div>\n",
       "<table border=\"1\" class=\"dataframe\">\n",
       "  <thead>\n",
       "    <tr style=\"text-align: right;\">\n",
       "      <th></th>\n",
       "      <th>Conversion Time</th>\n",
       "      <th>TDID</th>\n",
       "      <th>Conversion Id</th>\n",
       "      <th># Impressions</th>\n",
       "      <th># Display Clicks</th>\n",
       "      <th>Tracking Tag Name</th>\n",
       "      <th>First Impression Time</th>\n",
       "      <th>First Impression Campaign Name</th>\n",
       "      <th>First Impression Ad Group Name</th>\n",
       "      <th>Last Impression Time</th>\n",
       "      <th>Last Impression Campaign Name</th>\n",
       "      <th>Last Impression Ad Group Name</th>\n",
       "      <th>Last Impression Site</th>\n",
       "      <th>Last Impression Country</th>\n",
       "      <th>Last Impression Metro</th>\n",
       "      <th>Attribution Model</th>\n",
       "      <th>XDIDs</th>\n",
       "      <th>First Impression Device Type</th>\n",
       "      <th>Last Impression Device Type</th>\n",
       "      <th>Conversion Device Type</th>\n",
       "    </tr>\n",
       "  </thead>\n",
       "  <tbody>\n",
       "    <tr>\n",
       "      <th>0</th>\n",
       "      <td>2017-03-06 09:41:53.9334</td>\n",
       "      <td>24b2dfa2-efd4-4451-a141-78403776cfa9</td>\n",
       "      <td>f52b0812-83b9-4f02-9de9-7b1c86800607</td>\n",
       "      <td>1</td>\n",
       "      <td>0</td>\n",
       "      <td>Hep C Hope Homepage</td>\n",
       "      <td>2017-02-06 19:32:08.9304</td>\n",
       "      <td>8788 - Gilead UNDX</td>\n",
       "      <td>Display_Baby Boomer Keyword Targeting_Mobile Web</td>\n",
       "      <td>2017-02-06 19:32:08.9304</td>\n",
       "      <td>8788 - Gilead UNDX</td>\n",
       "      <td>Display_Baby Boomer Keyword Targeting_Mobile Web</td>\n",
       "      <td>realtimepolitics.com</td>\n",
       "      <td>United States</td>\n",
       "      <td>Minneapolis-St. Paul MN</td>\n",
       "      <td>Standard</td>\n",
       "      <td>24b2dfa2-efd4-4451-a141-78403776cfa9</td>\n",
       "      <td>Mobile</td>\n",
       "      <td>Mobile</td>\n",
       "      <td>Mobile</td>\n",
       "    </tr>\n",
       "    <tr>\n",
       "      <th>1</th>\n",
       "      <td>2017-03-06 10:23:45.0645</td>\n",
       "      <td>70f4eeb7-6b39-46e6-8a37-1889c36d05d0</td>\n",
       "      <td>be5cb3a1-47be-40a8-b117-0ef3a7359dc9</td>\n",
       "      <td>7</td>\n",
       "      <td>1</td>\n",
       "      <td>Hep C Hope Homepage</td>\n",
       "      <td>2017-02-14 10:24:51.6670</td>\n",
       "      <td>8788 - Gilead UNDX</td>\n",
       "      <td>Display_Baby Boomers Behavioral Targeting_Mobi...</td>\n",
       "      <td>2017-03-06 10:23:23.8639</td>\n",
       "      <td>8788 - Gilead UNDX</td>\n",
       "      <td>Display_Baby Boomers Behavioral Targeting_Mobi...</td>\n",
       "      <td>www.seniorpeoplemeet.com</td>\n",
       "      <td>United States</td>\n",
       "      <td>NaN</td>\n",
       "      <td>Standard</td>\n",
       "      <td>70f4eeb7-6b39-46e6-8a37-1889c36d05d0</td>\n",
       "      <td>Tablet</td>\n",
       "      <td>Tablet</td>\n",
       "      <td>Tablet</td>\n",
       "    </tr>\n",
       "    <tr>\n",
       "      <th>2</th>\n",
       "      <td>2017-03-07 10:01:06.3268</td>\n",
       "      <td>6a7f2b63-4533-4592-b8cf-919d19ec0d91</td>\n",
       "      <td>c2ee4f9b-98bb-4ad3-92d9-d55f03da8492</td>\n",
       "      <td>1</td>\n",
       "      <td>0</td>\n",
       "      <td>Hep C Hope Homepage</td>\n",
       "      <td>2017-02-27 14:44:30.2967</td>\n",
       "      <td>8788 - Gilead UNDX</td>\n",
       "      <td>Display_Baby Boomer Keyword Targeting_Desktop</td>\n",
       "      <td>2017-02-27 14:44:30.2967</td>\n",
       "      <td>8788 - Gilead UNDX</td>\n",
       "      <td>Display_Baby Boomer Keyword Targeting_Desktop</td>\n",
       "      <td>www.women.com</td>\n",
       "      <td>United States</td>\n",
       "      <td>New York NY</td>\n",
       "      <td>Standard</td>\n",
       "      <td>6a7f2b63-4533-4592-b8cf-919d19ec0d91</td>\n",
       "      <td>PC</td>\n",
       "      <td>PC</td>\n",
       "      <td>PC</td>\n",
       "    </tr>\n",
       "    <tr>\n",
       "      <th>3</th>\n",
       "      <td>2017-03-08 03:01:56.7425</td>\n",
       "      <td>8a31ee5a-83d0-40a6-bc5d-7d8e810621a6</td>\n",
       "      <td>a3b7f019-9296-467b-99c6-33822d11c593</td>\n",
       "      <td>1</td>\n",
       "      <td>0</td>\n",
       "      <td>Hep C Hope Homepage</td>\n",
       "      <td>2017-03-08 02:34:51.9000</td>\n",
       "      <td>8788 - Gilead UNDX</td>\n",
       "      <td>Display_Baby Boomers Behavioral Targeting_Mobi...</td>\n",
       "      <td>2017-03-08 02:34:51.9000</td>\n",
       "      <td>8788 - Gilead UNDX</td>\n",
       "      <td>Display_Baby Boomers Behavioral Targeting_Mobi...</td>\n",
       "      <td>www.lonny.com</td>\n",
       "      <td>United States</td>\n",
       "      <td>Buffalo NY</td>\n",
       "      <td>Standard</td>\n",
       "      <td>8a31ee5a-83d0-40a6-bc5d-7d8e810621a6</td>\n",
       "      <td>Tablet</td>\n",
       "      <td>Tablet</td>\n",
       "      <td>Tablet</td>\n",
       "    </tr>\n",
       "    <tr>\n",
       "      <th>4</th>\n",
       "      <td>2017-03-08 17:22:12.4996</td>\n",
       "      <td>29b54010-3f39-4971-ac4d-38615a48808c</td>\n",
       "      <td>5269385b-8127-487d-8911-cf73eec778c8</td>\n",
       "      <td>1</td>\n",
       "      <td>0</td>\n",
       "      <td>Hep C Hope Homepage</td>\n",
       "      <td>2017-02-10 14:01:07.5034</td>\n",
       "      <td>8788 - Gilead UNDX</td>\n",
       "      <td>Display_Baby Boomers Behavioral Targeting_Desktop</td>\n",
       "      <td>2017-02-10 14:01:07.5034</td>\n",
       "      <td>8788 - Gilead UNDX</td>\n",
       "      <td>Display_Baby Boomers Behavioral Targeting_Desktop</td>\n",
       "      <td>allrecipes.com</td>\n",
       "      <td>United States</td>\n",
       "      <td>Philadelphia PA</td>\n",
       "      <td>Standard</td>\n",
       "      <td>29b54010-3f39-4971-ac4d-38615a48808c</td>\n",
       "      <td>PC</td>\n",
       "      <td>PC</td>\n",
       "      <td>PC</td>\n",
       "    </tr>\n",
       "  </tbody>\n",
       "</table>\n",
       "</div>"
      ],
      "text/plain": [
       "            Conversion Time                                  TDID  \\\n",
       "0  2017-03-06 09:41:53.9334  24b2dfa2-efd4-4451-a141-78403776cfa9   \n",
       "1  2017-03-06 10:23:45.0645  70f4eeb7-6b39-46e6-8a37-1889c36d05d0   \n",
       "2  2017-03-07 10:01:06.3268  6a7f2b63-4533-4592-b8cf-919d19ec0d91   \n",
       "3  2017-03-08 03:01:56.7425  8a31ee5a-83d0-40a6-bc5d-7d8e810621a6   \n",
       "4  2017-03-08 17:22:12.4996  29b54010-3f39-4971-ac4d-38615a48808c   \n",
       "\n",
       "                          Conversion Id  # Impressions  # Display Clicks  \\\n",
       "0  f52b0812-83b9-4f02-9de9-7b1c86800607              1                 0   \n",
       "1  be5cb3a1-47be-40a8-b117-0ef3a7359dc9              7                 1   \n",
       "2  c2ee4f9b-98bb-4ad3-92d9-d55f03da8492              1                 0   \n",
       "3  a3b7f019-9296-467b-99c6-33822d11c593              1                 0   \n",
       "4  5269385b-8127-487d-8911-cf73eec778c8              1                 0   \n",
       "\n",
       "     Tracking Tag Name     First Impression Time  \\\n",
       "0  Hep C Hope Homepage  2017-02-06 19:32:08.9304   \n",
       "1  Hep C Hope Homepage  2017-02-14 10:24:51.6670   \n",
       "2  Hep C Hope Homepage  2017-02-27 14:44:30.2967   \n",
       "3  Hep C Hope Homepage  2017-03-08 02:34:51.9000   \n",
       "4  Hep C Hope Homepage  2017-02-10 14:01:07.5034   \n",
       "\n",
       "  First Impression Campaign Name  \\\n",
       "0             8788 - Gilead UNDX   \n",
       "1             8788 - Gilead UNDX   \n",
       "2             8788 - Gilead UNDX   \n",
       "3             8788 - Gilead UNDX   \n",
       "4             8788 - Gilead UNDX   \n",
       "\n",
       "                      First Impression Ad Group Name  \\\n",
       "0   Display_Baby Boomer Keyword Targeting_Mobile Web   \n",
       "1  Display_Baby Boomers Behavioral Targeting_Mobi...   \n",
       "2      Display_Baby Boomer Keyword Targeting_Desktop   \n",
       "3  Display_Baby Boomers Behavioral Targeting_Mobi...   \n",
       "4  Display_Baby Boomers Behavioral Targeting_Desktop   \n",
       "\n",
       "       Last Impression Time Last Impression Campaign Name  \\\n",
       "0  2017-02-06 19:32:08.9304            8788 - Gilead UNDX   \n",
       "1  2017-03-06 10:23:23.8639            8788 - Gilead UNDX   \n",
       "2  2017-02-27 14:44:30.2967            8788 - Gilead UNDX   \n",
       "3  2017-03-08 02:34:51.9000            8788 - Gilead UNDX   \n",
       "4  2017-02-10 14:01:07.5034            8788 - Gilead UNDX   \n",
       "\n",
       "                       Last Impression Ad Group Name  \\\n",
       "0   Display_Baby Boomer Keyword Targeting_Mobile Web   \n",
       "1  Display_Baby Boomers Behavioral Targeting_Mobi...   \n",
       "2      Display_Baby Boomer Keyword Targeting_Desktop   \n",
       "3  Display_Baby Boomers Behavioral Targeting_Mobi...   \n",
       "4  Display_Baby Boomers Behavioral Targeting_Desktop   \n",
       "\n",
       "       Last Impression Site Last Impression Country    Last Impression Metro  \\\n",
       "0      realtimepolitics.com           United States  Minneapolis-St. Paul MN   \n",
       "1  www.seniorpeoplemeet.com           United States                      NaN   \n",
       "2             www.women.com           United States              New York NY   \n",
       "3             www.lonny.com           United States               Buffalo NY   \n",
       "4            allrecipes.com           United States          Philadelphia PA   \n",
       "\n",
       "  Attribution Model                                 XDIDs  \\\n",
       "0          Standard  24b2dfa2-efd4-4451-a141-78403776cfa9   \n",
       "1          Standard  70f4eeb7-6b39-46e6-8a37-1889c36d05d0   \n",
       "2          Standard  6a7f2b63-4533-4592-b8cf-919d19ec0d91   \n",
       "3          Standard  8a31ee5a-83d0-40a6-bc5d-7d8e810621a6   \n",
       "4          Standard  29b54010-3f39-4971-ac4d-38615a48808c   \n",
       "\n",
       "  First Impression Device Type Last Impression Device Type  \\\n",
       "0                       Mobile                      Mobile   \n",
       "1                       Tablet                      Tablet   \n",
       "2                           PC                          PC   \n",
       "3                       Tablet                      Tablet   \n",
       "4                           PC                          PC   \n",
       "\n",
       "  Conversion Device Type  \n",
       "0                 Mobile  \n",
       "1                 Tablet  \n",
       "2                     PC  \n",
       "3                 Tablet  \n",
       "4                     PC  "
      ]
     },
     "execution_count": 5,
     "metadata": {},
     "output_type": "execute_result"
    }
   ],
   "source": [
    "# Assigning the chunk of data with over 0 impression to a new variable\n",
    "\n",
    "print len(raw[\"# Impressions\"])\n",
    "\n",
    "raw = raw[raw[\"# Impressions\"] != 0]\n",
    "print len(raw[\"# Impressions\"])\n",
    "\n",
    "# Resetting the index of rows to avoid potential issues occured in following process\n",
    "\n",
    "raw = raw.reset_index(drop=True)\n",
    "print len(raw[\"# Impressions\"])\n",
    "\n",
    "raw.head()"
   ]
  },
  {
   "cell_type": "code",
   "execution_count": 6,
   "metadata": {
    "collapsed": true
   },
   "outputs": [],
   "source": [
    "# Making Impression Device Type as x once # Impression equal 1 \n",
    "\n",
    "raw.loc[raw[\"# Impressions\"] == 1, \"First Impression Device Type\"] = \" x \"\n",
    "raw.loc[raw[\"# Impressions\"] == 1, \"Last Impression Device Type\"] = \" x \""
   ]
  },
  {
   "cell_type": "code",
   "execution_count": 7,
   "metadata": {
    "collapsed": false
   },
   "outputs": [],
   "source": [
    "# Dealing with the columns with time\n",
    "\n",
    "conversion_time_list = []\n",
    "\n",
    "for i in raw[\"Conversion Time\"]:\n",
    "    t = datetime.datetime.strptime(i,\"%Y-%m-%d %H:%M:%S.%f\")\n",
    "    t = datetime.datetime.replace(t,minute = 0, second = 0, microsecond = 0)\n",
    "    conversion_time_list.append(t)\n",
    "\n",
    "    \n",
    "last_impression_list = []    \n",
    "\n",
    "for i in raw[\"Last Impression Time\"]:\n",
    "    t = datetime.datetime.strptime(i,\"%Y-%m-%d %H:%M:%S.%f\")\n",
    "    t = datetime.datetime.replace(t,minute = 0, second = 0, microsecond = 0)\n",
    "    last_impression_list.append(t)\n",
    "    \n",
    "first_impression_list = []\n",
    "\n",
    "for i in raw[\"First Impression Time\"]:\n",
    "    t = datetime.datetime.strptime(i,\"%Y-%m-%d %H:%M:%S.%f\")\n",
    "    t = datetime.datetime.replace(t,minute = 0, second = 0, microsecond = 0)\n",
    "    first_impression_list.append(t)\n",
    "\n",
    "    \n",
    "raw[\"cal_conversion_time\"] = Series(conversion_time_list)\n",
    "raw[\"cal_last_impression_time\"] = Series(last_impression_list)\n",
    "raw[\"cal_first_impression_time\"] = Series(first_impression_list)\n",
    "\n",
    "\n",
    "\n"
   ]
  },
  {
   "cell_type": "code",
   "execution_count": 8,
   "metadata": {
    "collapsed": false
   },
   "outputs": [],
   "source": [
    "\n",
    "raw[\"Last To Convert\"] = pd.to_datetime(raw[\"cal_conversion_time\"]) - pd.to_datetime(raw[\"cal_last_impression_time\"])\n",
    "raw[\"First To Last\"] = pd.to_datetime(raw[\"cal_last_impression_time\"]) - pd.to_datetime(raw[\"cal_first_impression_time\"])\n",
    "raw[\"First To Convert\"] = pd.to_datetime(raw[\"cal_conversion_time\"]) - pd.to_datetime(raw[\"cal_first_impression_time\"])\n",
    "\n",
    "list_day = []\n",
    "list_time = []\n",
    "\n",
    "for row in raw[\"Last To Convert\"]:\n",
    "    date = str(row).split(\" days \")\n",
    "    list_day.append(date[0])\n",
    "    list_time.append(date[1])\n",
    "    \n",
    "raw[\"Last_To_Convert_Day\"] = Series(list_day)\n",
    "raw[\"Last_To_Convert_Time\"] = Series(list_time)\n",
    "\n",
    "\n",
    "list_day = []\n",
    "list_time = []\n",
    "\n",
    "for row in raw[\"First To Last\"]:\n",
    "    date = str(row).split(\" days \")\n",
    "    list_day.append(date[0])\n",
    "    list_time.append(date[1])\n",
    "    \n",
    "raw[\"First_To_Last_Day\"] = Series(list_day)\n",
    "raw[\"First_To_Last_Time\"] = Series(list_time)\n",
    "\n",
    "\n",
    "list_day = []\n",
    "list_time = []\n",
    "\n",
    "\n",
    "for row in raw[\"First To Convert\"]:\n",
    "    date = str(row).split(\" days \")\n",
    "    list_day.append(date[0])\n",
    "    list_time.append(date[1])\n",
    "    \n",
    "raw[\"First_To_Convert_Day\"] = Series(list_day)\n",
    "raw[\"First_To_Convert_Time\"] = Series(list_time)    "
   ]
  },
  {
   "cell_type": "code",
   "execution_count": 9,
   "metadata": {
    "collapsed": false
   },
   "outputs": [],
   "source": [
    "\n",
    "day_ratio_list = []\n",
    "\n",
    "for i in raw[\"Last_To_Convert_Time\"]:\n",
    "    t = datetime.datetime.strptime(i, \"%H:%M:%S\")\n",
    "    day_ratio = round(float(t.hour) / 24, 1)\n",
    "    day_ratio_list.append(day_ratio)\n",
    "\n",
    "raw[\"Last_To_Convert_ratio\"] = Series(day_ratio_list)\n",
    "\n",
    "\n",
    "day_ratio_list = []\n",
    "\n",
    "for i in raw[\"First_To_Last_Time\"]:\n",
    "    t = datetime.datetime.strptime(i, \"%H:%M:%S\")\n",
    "    day_ratio = round(float(t.hour) / 24, 1)\n",
    "    day_ratio_list.append(day_ratio)\n",
    "\n",
    "raw[\"First_To_Last_ratio\"] = Series(day_ratio_list)\n",
    "\n",
    "\n",
    "day_ratio_list = []\n",
    "\n",
    "for i in raw[\"First_To_Convert_Time\"]:\n",
    "    t = datetime.datetime.strptime(i, \"%H:%M:%S\")\n",
    "    day_ratio = round(float(t.hour) / 24, 1)\n",
    "    day_ratio_list.append(day_ratio)\n",
    "\n",
    "raw[\"First_To_Convert_ratio\"] = Series(day_ratio_list)"
   ]
  },
  {
   "cell_type": "code",
   "execution_count": 10,
   "metadata": {
    "collapsed": true
   },
   "outputs": [],
   "source": [
    "\n",
    "raw[\"Last_To_Convert_Day\"] = pd.to_numeric(raw[\"Last_To_Convert_Day\"])\n",
    "raw[\"Last_To_Convert_ratio\"] = pd.to_numeric(raw[\"Last_To_Convert_ratio\"])\n",
    "raw[\"Last_To_Convert\"] = raw[\"Last_To_Convert_Day\"] + raw[\"Last_To_Convert_ratio\"]\n",
    "\n",
    "\n",
    "raw[\"First_To_Last_Day\"] = pd.to_numeric(raw[\"First_To_Last_Day\"])\n",
    "raw[\"First_To_Last_ratio\"] = pd.to_numeric(raw[\"First_To_Last_ratio\"])\n",
    "raw[\"First_To_Last\"] = raw[\"First_To_Last_Day\"] + raw[\"First_To_Last_ratio\"]\n",
    "\n",
    "\n",
    "raw[\"First_To_Convert_Day\"] = pd.to_numeric(raw[\"First_To_Convert_Day\"])\n",
    "raw[\"First_To_Convert_ratio\"] = pd.to_numeric(raw[\"First_To_Convert_ratio\"])\n",
    "raw[\"First_To_Convert\"] = raw[\"First_To_Convert_Day\"] + raw[\"First_To_Convert_ratio\"]\n",
    "\n",
    "\n",
    "#raw[\"Lag Time Final\"] = raw[\"Lag Time Final\"].astype(str) + \" days\"\n",
    "\n",
    "\n",
    "\n",
    "\n",
    "\n"
   ]
  },
  {
   "cell_type": "code",
   "execution_count": 11,
   "metadata": {
    "collapsed": true
   },
   "outputs": [],
   "source": [
    "# Cleaning Device Type columns\n",
    "\n",
    "raw[[\"First Impression Device Type\",\"Last Impression Device Type\",\"Conversion Device Type\"]] = raw[[\"First Impression Device Type\",\"Last Impression Device Type\",\"Conversion Device Type\"]].replace(\"Other\",\"PC\")"
   ]
  },
  {
   "cell_type": "code",
   "execution_count": 12,
   "metadata": {
    "collapsed": true
   },
   "outputs": [],
   "source": [
    "raw[\"Conversion Device Path\"] = raw[\"First Impression Device Type\"] + \" -> \" + raw[\"Last Impression Device Type\"] + \" -> \" + raw[\"Conversion Device Type\"]"
   ]
  },
  {
   "cell_type": "code",
   "execution_count": 13,
   "metadata": {
    "collapsed": true
   },
   "outputs": [],
   "source": [
    "# Creating a column for DOW\n",
    "\n",
    "day_list = []\n",
    "\n",
    "for row in raw[\"Conversion Time\"]:\n",
    "    test = datetime.datetime.strptime(str(row),\"%Y-%m-%d %X.%f\").date()\n",
    "    day = datetime.datetime.weekday(test)\n",
    "    dow = calendar.day_name[day]\n",
    "    day_list.append(dow)\n",
    "    \n",
    "raw[\"DOW\"] = Series(day_list)"
   ]
  },
  {
   "cell_type": "code",
   "execution_count": 14,
   "metadata": {
    "collapsed": false
   },
   "outputs": [],
   "source": [
    "# Creating a column for HOD\n",
    "\n",
    "HOD = []\n",
    "for row in raw[\"cal_conversion_time\"]:\n",
    "    hour = str(row).split(\" \")\n",
    "    hour = hour[1]\n",
    "    hour = str(hour).split(\":\")\n",
    "    HOD.append(hour[0])\n",
    "\n",
    "raw[\"HOD\"] = Series(HOD)\n"
   ]
  },
  {
   "cell_type": "code",
   "execution_count": 15,
   "metadata": {
    "collapsed": true
   },
   "outputs": [],
   "source": [
    "# Creating a column for ad group path first imps --> last imps\n",
    "\n",
    "raw[\"Ad Group First to Last Imps Path\"] = raw[\"First Impression Ad Group Name\"] + \" -> \" + raw[\"Last Impression Ad Group Name\"]\n"
   ]
  },
  {
   "cell_type": "code",
   "execution_count": 16,
   "metadata": {
    "collapsed": true
   },
   "outputs": [],
   "source": [
    "raw[\"Campaign Conversion Path\"] = raw[\"First Impression Campaign Name\"] + \" -> \" + raw[\"Last Impression Campaign Name\"]"
   ]
  },
  {
   "cell_type": "code",
   "execution_count": 17,
   "metadata": {
    "collapsed": true
   },
   "outputs": [],
   "source": [
    "raw_final = raw[[\"Conversion Time\",\"TDID\",\"Conversion Id\",\"# Impressions\",\"# Display Clicks\",\n",
    "                     \"Tracking Tag Name\",\"First Impression Time\",\"First Impression Campaign Name\",\n",
    "                     \"First Impression Ad Group Name\",\"Last Impression Time\",\"Last Impression Campaign Name\",\n",
    "                     \"Last Impression Ad Group Name\",\"Last Impression Site\",\"Last Impression Country\",\"Last Impression Metro\",\n",
    "                     \"Attribution Model\",\"XDIDs\",\"First Impression Device Type\",\"Last Impression Device Type\",\n",
    "                     \"Conversion Device Type\", \"First_To_Convert\",\"First_To_Last\",\"Last_To_Convert\", \"Conversion Device Path\",\n",
    "                 \"Ad Group First to Last Imps Path\",\"Campaign Conversion Path\",\"DOW\",\"HOD\"]]"
   ]
  },
  {
   "cell_type": "code",
   "execution_count": 18,
   "metadata": {
    "collapsed": false
   },
   "outputs": [
    {
     "name": "stdout",
     "output_type": "stream",
     "text": [
      "Would you want to filter the final data by certain tracking tag ? y\n",
      "Tracking Tag :  Hep C Hope Homepage\n",
      "Tracking Tag :  Branded Harvoni Site Visit\n",
      "Tracking Tag :  HX_TTD_About Harvoni\n",
      "Tracking Tag :  Find a Doctor Search\n",
      "Tracking Tag :  HX_TTD_Treatement with Harvoni\n",
      "Please type in the tracking tag you would like to include in the final file > Hep C Hope Homepage\n",
      "Are there any other tracking tags ? n\n",
      "(9030, 28)\n"
     ]
    }
   ],
   "source": [
    "x = raw_input(\"Would you want to filter the final data by certain tracking tag ? \")\n",
    "\n",
    "if x == \"y\":\n",
    "    tag = raw_final[\"Tracking Tag Name\"].unique()\n",
    "    \n",
    "    for i in tag:\n",
    "        print \"Tracking Tag : \", i\n",
    "        \n",
    "    index = raw_input(\"Please type in the tracking tag you would like to include in the final file > \")\n",
    "    \n",
    "    final = raw_final[raw_final[\"Tracking Tag Name\"] == index]\n",
    "    \n",
    "    x = raw_input(\"Are there any other tracking tags ? \")\n",
    "    \n",
    "    while x == \"y\":\n",
    "        index = raw_input(\"Please type in the tracking tag you would like to include in the final file > \")\n",
    "        p = raw_final[raw_final[\"Tracking Tag Name\"] == index]\n",
    "        final = final.append(p, ignore_index= True)\n",
    "        x = raw_input(\"Are there any other tracking tags ? \")\n",
    "        \n",
    "    else:\n",
    "        print final.shape\n",
    "    \n",
    "else:\n",
    "    final = raw_final\n",
    "    print final.shape\n",
    "    \n",
    "    "
   ]
  },
  {
   "cell_type": "code",
   "execution_count": 19,
   "metadata": {
    "collapsed": false
   },
   "outputs": [
    {
     "name": "stdout",
     "output_type": "stream",
     "text": [
      "['Hep C Hope Homepage']\n"
     ]
    }
   ],
   "source": [
    "print final[\"Tracking Tag Name\"].unique()"
   ]
  },
  {
   "cell_type": "code",
   "execution_count": 20,
   "metadata": {
    "collapsed": false
   },
   "outputs": [
    {
     "name": "stdout",
     "output_type": "stream",
     "text": [
      "Please name your file with the file type .xlsx> Gilead_CT.xlsx\n",
      "The file Gilead_CT.xlsx is generating...\n",
      "The file Gilead_CT.xlsx is saved under path C:\\Users\\dhou\\Desktop\\Python\\Conversion Details\n"
     ]
    }
   ],
   "source": [
    "name = raw_input(\"Please name your file with the file type .xlsx> \")\n",
    "\n",
    "print \"The file\", name, \"is generating...\"\n",
    "\n",
    "writer = pd.ExcelWriter(name)\n",
    "final.to_excel(writer, index= False)\n",
    "writer.save()\n",
    "\n",
    "print \"The file\", name, \"is saved under path\", os.getcwd()"
   ]
  },
  {
   "cell_type": "code",
   "execution_count": null,
   "metadata": {
    "collapsed": true
   },
   "outputs": [],
   "source": []
  }
 ],
 "metadata": {
  "kernelspec": {
   "display_name": "Python 2",
   "language": "python",
   "name": "python2"
  },
  "language_info": {
   "codemirror_mode": {
    "name": "ipython",
    "version": 2
   },
   "file_extension": ".py",
   "mimetype": "text/x-python",
   "name": "python",
   "nbconvert_exporter": "python",
   "pygments_lexer": "ipython2",
   "version": "2.7.12"
  }
 },
 "nbformat": 4,
 "nbformat_minor": 1
}
