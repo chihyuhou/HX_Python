{
 "cells": [
  {
   "cell_type": "code",
   "execution_count": null,
   "metadata": {
    "collapsed": true
   },
   "outputs": [],
   "source": [
    "import pandas as pd\n",
    "import os\n",
    "\n",
    "file_size = list(range(10))\n",
    "\n",
    "for i in file_size:\n",
    "    \n",
    "    if i == 0:\n",
    "        file_name = raw_input(\"Please type in path of the file > \")\n",
    "        input_file = pd.read_csv(file_name)\n",
    "        print \"input_file shape : \", input_file.shape\n",
    "        final = input_file\n",
    "        \n",
    "        answer = raw_input(\"If there are other files, please type \\\"y\\\", otherwise, press \\\"n\\\" > \")\n",
    "        if answer == \"y\":\n",
    "            continue\n",
    "        else:\n",
    "            print \"final file shape : \", final.shape\n",
    "            break\n",
    "        \n",
    "    else:\n",
    "        file_name = raw_input(\"Please type in path of the file > \")\n",
    "        input_file = pd.read_csv(file_name)\n",
    "        print \"input_file shape : \", input_file.shape\n",
    "        final = final.append(input_file, ignore_index= True)\n",
    "        \n",
    "        answer = raw_input(\"If there are other files, please type \\\"y\\\", otherwise, press \\\"n\\\" > \")\n",
    "        if answer == \"y\":\n",
    "            continue\n",
    "        else:\n",
    "            print \"The final file comprises\", i+1, \"the shape of the final file : \", final.shape\n",
    "            break\n",
    "        \n",
    "#C:\\Users\\dhou\\Desktop\\data\\data1.csv\n",
    "#C:\\Users\\dhou\\Desktop\\data\\data2.csv\n",
    "#C:\\Users\\dhou\\Desktop\\data\\data3.csv\n",
    "\n",
    "print \"The file is generating...\"\n",
    "\n",
    "writer = pd.ExcelWriter(\"file.xlsx\")\n",
    "final.to_excel(writer, index= False)\n",
    "writer.save()\n",
    "\n",
    "print \"The file is saved under path\", os.getcwd()"
   ]
  }
 ],
 "metadata": {
  "kernelspec": {
   "display_name": "Python 2",
   "language": "python",
   "name": "python2"
  },
  "language_info": {
   "codemirror_mode": {
    "name": "ipython",
    "version": 2
   },
   "file_extension": ".py",
   "mimetype": "text/x-python",
   "name": "python",
   "nbconvert_exporter": "python",
   "pygments_lexer": "ipython2",
   "version": "2.7.12"
  }
 },
 "nbformat": 4,
 "nbformat_minor": 1
}
